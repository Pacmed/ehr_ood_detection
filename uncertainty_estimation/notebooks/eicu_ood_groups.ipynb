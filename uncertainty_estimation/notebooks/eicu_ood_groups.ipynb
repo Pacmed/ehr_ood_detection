{
 "cells": [
  {
   "cell_type": "code",
   "execution_count": null,
   "metadata": {},
   "outputs": [],
   "source": [
    "import pickle\n",
    "import numpy as np\n",
    "import matplotlib.pyplot as plt\n",
    "import pandas as pd\n",
    "import sys\n",
    "import os"
   ]
  },
  {
   "cell_type": "code",
   "execution_count": null,
   "metadata": {},
   "outputs": [],
   "source": [
    "sys.path.insert(0, os.path.abspath('../../'))\n",
    "from uncertainty_estimation.experiments_utils.ood_experiments_utils import EICU_OOD_MAPPINGS"
   ]
  },
  {
   "cell_type": "code",
   "execution_count": null,
   "metadata": {},
   "outputs": [],
   "source": [
    "EICU_PATH = \"/data/processed/eicu_processed/data/adult_data.csv\"\n",
    "TARGET = \"hospitaldischargestatus\""
   ]
  },
  {
   "cell_type": "code",
   "execution_count": null,
   "metadata": {},
   "outputs": [],
   "source": [
    "with open(\"./eICU_feature_names.pkl\", \"rb\") as f:\n",
    "    feat_columns = pickle.load(f)"
   ]
  },
  {
   "cell_type": "code",
   "execution_count": null,
   "metadata": {},
   "outputs": [],
   "source": [
    "eicu_data = pd.read_csv(EICU_PATH, dtype=float)\n",
    "eicu_features = eicu_data[feat_columns + [TARGET]]\n",
    "eicu_features[pd.isna(eicu_features)] = 0\n",
    "X, y = eicu_features[feat_columns], eicu_features[TARGET]"
   ]
  },
  {
   "cell_type": "code",
   "execution_count": null,
   "metadata": {},
   "outputs": [],
   "source": [
    "X_projected = np.load(\"eicu_projected.npy\")"
   ]
  },
  {
   "cell_type": "code",
   "execution_count": null,
   "metadata": {},
   "outputs": [],
   "source": [
    "plt.rcParams[\"figure.figsize\"] = (14,8)\n",
    "\n",
    "def plot_group(group_name, X, y):\n",
    "\n",
    "    for cls, label, color, alph in zip([0, 1], [\"Rest\", \"Targets\"], [\"royalblue\", \"darkorange\"], [0.3, 1]):\n",
    "        plt.scatter(\n",
    "            X_projected[:, 0][y == cls], X_projected[:, 1][y == cls], \n",
    "            alpha=alph, c=color, label=label, edgecolor=\"w\"\n",
    "        )\n",
    "    plt.title(f\"eICU stays '{group_name}' ({y.mean()*100:.2f} %)\", fontsize=18)\n",
    "    plt.legend(fontsize=14)\n",
    "    plt.savefig(f\"./eicu_{group_name.lower().replace('/', '_')}.png\")\n",
    "    plt.show()"
   ]
  },
  {
   "cell_type": "code",
   "execution_count": null,
   "metadata": {},
   "outputs": [],
   "source": [
    "for group_name, filter_value in EICU_OOD_MAPPINGS.items():\n",
    "    col, val = filter_value\n",
    "    y_group = (eicu_data[col] == val).to_numpy()\n",
    "    plot_group(group_name, X_projected, y_group)"
   ]
  },
  {
   "cell_type": "code",
   "execution_count": null,
   "metadata": {},
   "outputs": [],
   "source": []
  }
 ],
 "metadata": {
  "kernelspec": {
   "display_name": "Python 3",
   "language": "python",
   "name": "python3"
  },
  "language_info": {
   "codemirror_mode": {
    "name": "ipython",
    "version": 3
   },
   "file_extension": ".py",
   "mimetype": "text/x-python",
   "name": "python",
   "nbconvert_exporter": "python",
   "pygments_lexer": "ipython3"
  }
 },
 "nbformat": 4,
 "nbformat_minor": 4
}
