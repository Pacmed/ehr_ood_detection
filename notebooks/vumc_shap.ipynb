{
 "cells": [
  {
   "cell_type": "code",
   "execution_count": 143,
   "id": "gross-night",
   "metadata": {},
   "outputs": [],
   "source": [
    "import sys\n",
    "import os\n",
    "import argparse\n",
    "import pickle\n",
    "from typing import Optional, Union\n",
    "from collections import defaultdict\n",
    "from collections import namedtuple\n",
    "\n",
    "import pandas as pd\n",
    "import numpy as np\n",
    "import matplotlib.pyplot as plt\n",
    "import shap\n",
    "import sklearn\n",
    "\n",
    "# PROJECT\n",
    "ROOT_PATH = '/home/karina/ehr_ood_detection/'\n",
    "sys.path.append(ROOT_PATH)\n",
    "\n",
    "from src.utils.datahandler import DataHandler, load_data_from_origin\n",
    "from src.models.novelty_estimator import NoveltyEstimator, SCORING_FUNCS\n",
    "from src.utils.model_init import init_models\n",
    "\n",
    "RESULT_DIR = os.path.join(ROOT_PATH, \"data/results\")\n",
    "DATA_ORIGIN = \"VUmc\""
   ]
  },
  {
   "cell_type": "markdown",
   "id": "asian-science",
   "metadata": {},
   "source": [
    "### Load features"
   ]
  },
  {
   "cell_type": "code",
   "execution_count": 100,
   "id": "collectible-marathon",
   "metadata": {},
   "outputs": [],
   "source": [
    "# Define for compatibility with the IDE functions\n",
    "Args = namedtuple(\"Args\", 'data_origin, result_dir, models')\n",
    "args = Args(DATA_ORIGIN, RESULT_DIR, {\"NN\"})\n",
    "\n",
    "DENSITY_ESTIMATORS = {\"AE\", \"VAE\", \"PPCA\", \"LOF\", \"DUE\"}"
   ]
  },
  {
   "cell_type": "code",
   "execution_count": 10,
   "id": "amazing-consultancy",
   "metadata": {},
   "outputs": [
    {
     "data": {
      "text/html": [
       "<div>\n",
       "<style scoped>\n",
       "    .dataframe tbody tr th:only-of-type {\n",
       "        vertical-align: middle;\n",
       "    }\n",
       "\n",
       "    .dataframe tbody tr th {\n",
       "        vertical-align: top;\n",
       "    }\n",
       "\n",
       "    .dataframe thead th {\n",
       "        text-align: right;\n",
       "    }\n",
       "</style>\n",
       "<table border=\"1\" class=\"dataframe\">\n",
       "  <thead>\n",
       "    <tr style=\"text-align: right;\">\n",
       "      <th></th>\n",
       "      <th>age</th>\n",
       "      <th>alat__first__overall</th>\n",
       "      <th>alat__is_measured__first_24h</th>\n",
       "      <th>alat__is_measured__last_24h</th>\n",
       "      <th>alat__is_measured__overall</th>\n",
       "      <th>alat__last__overall</th>\n",
       "      <th>alat__maximum__first_24h</th>\n",
       "      <th>alat__maximum__last_24h</th>\n",
       "      <th>alat__maximum__overall</th>\n",
       "      <th>alat__mean__first_24h</th>\n",
       "      <th>...</th>\n",
       "      <th>weight__mean__first_24h</th>\n",
       "      <th>weight__mean__last_24h</th>\n",
       "      <th>weight__mean__overall</th>\n",
       "      <th>weight__mean__overall__diff</th>\n",
       "      <th>weight__minimum__first_24h</th>\n",
       "      <th>weight__minimum__last_24h</th>\n",
       "      <th>weight__minimum__overall</th>\n",
       "      <th>weight__standard_deviation__first_24h</th>\n",
       "      <th>weight__standard_deviation__last_24h</th>\n",
       "      <th>weight__standard_deviation__overall</th>\n",
       "    </tr>\n",
       "  </thead>\n",
       "  <tbody>\n",
       "    <tr>\n",
       "      <th>12776</th>\n",
       "      <td>0.208338</td>\n",
       "      <td>-2.571594e-17</td>\n",
       "      <td>-0.836748</td>\n",
       "      <td>-0.564198</td>\n",
       "      <td>-1.005234</td>\n",
       "      <td>1.341701e-17</td>\n",
       "      <td>-2.115117e-17</td>\n",
       "      <td>-1.396415e-17</td>\n",
       "      <td>1.900744e-17</td>\n",
       "      <td>-6.140661e-18</td>\n",
       "      <td>...</td>\n",
       "      <td>-0.592510</td>\n",
       "      <td>-6.437533e-17</td>\n",
       "      <td>-0.599947</td>\n",
       "      <td>-9.289658e-18</td>\n",
       "      <td>-0.571143</td>\n",
       "      <td>2.327858e-16</td>\n",
       "      <td>-0.566624</td>\n",
       "      <td>-0.124656</td>\n",
       "      <td>-8.046917e-18</td>\n",
       "      <td>-0.175002</td>\n",
       "    </tr>\n",
       "    <tr>\n",
       "      <th>8728</th>\n",
       "      <td>-1.841463</td>\n",
       "      <td>1.497769e-01</td>\n",
       "      <td>-0.836748</td>\n",
       "      <td>-0.564198</td>\n",
       "      <td>0.994794</td>\n",
       "      <td>1.903120e-01</td>\n",
       "      <td>-2.115117e-17</td>\n",
       "      <td>-1.396415e-17</td>\n",
       "      <td>-2.725539e-02</td>\n",
       "      <td>-6.140661e-18</td>\n",
       "      <td>...</td>\n",
       "      <td>0.632517</td>\n",
       "      <td>-6.437533e-17</td>\n",
       "      <td>0.619133</td>\n",
       "      <td>-9.289658e-18</td>\n",
       "      <td>0.664125</td>\n",
       "      <td>2.327858e-16</td>\n",
       "      <td>0.667501</td>\n",
       "      <td>-0.174363</td>\n",
       "      <td>-8.046917e-18</td>\n",
       "      <td>-0.219490</td>\n",
       "    </tr>\n",
       "    <tr>\n",
       "      <th>10988</th>\n",
       "      <td>1.234953</td>\n",
       "      <td>1.815384e-01</td>\n",
       "      <td>1.195102</td>\n",
       "      <td>-0.564198</td>\n",
       "      <td>0.994794</td>\n",
       "      <td>-1.107904e-01</td>\n",
       "      <td>5.204464e-02</td>\n",
       "      <td>-1.396415e-17</td>\n",
       "      <td>1.991159e-01</td>\n",
       "      <td>6.813280e-02</td>\n",
       "      <td>...</td>\n",
       "      <td>-0.594964</td>\n",
       "      <td>-6.437533e-17</td>\n",
       "      <td>-0.602390</td>\n",
       "      <td>-9.289658e-18</td>\n",
       "      <td>-0.571143</td>\n",
       "      <td>2.327858e-16</td>\n",
       "      <td>-0.566624</td>\n",
       "      <td>-0.174363</td>\n",
       "      <td>-8.046917e-18</td>\n",
       "      <td>-0.219490</td>\n",
       "    </tr>\n",
       "    <tr>\n",
       "      <th>6797</th>\n",
       "      <td>-0.061668</td>\n",
       "      <td>-2.571594e-17</td>\n",
       "      <td>-0.836748</td>\n",
       "      <td>-0.564198</td>\n",
       "      <td>-1.005234</td>\n",
       "      <td>1.341701e-17</td>\n",
       "      <td>-2.115117e-17</td>\n",
       "      <td>-1.396415e-17</td>\n",
       "      <td>1.900744e-17</td>\n",
       "      <td>-6.140661e-18</td>\n",
       "      <td>...</td>\n",
       "      <td>1.798624</td>\n",
       "      <td>1.786848e+00</td>\n",
       "      <td>1.779579</td>\n",
       "      <td>-2.300083e-03</td>\n",
       "      <td>1.837631</td>\n",
       "      <td>1.807144e+00</td>\n",
       "      <td>1.839919</td>\n",
       "      <td>-0.174363</td>\n",
       "      <td>-1.071439e-01</td>\n",
       "      <td>-0.219490</td>\n",
       "    </tr>\n",
       "    <tr>\n",
       "      <th>9590</th>\n",
       "      <td>-1.586001</td>\n",
       "      <td>-2.571594e-17</td>\n",
       "      <td>-0.836748</td>\n",
       "      <td>-0.564198</td>\n",
       "      <td>-1.005234</td>\n",
       "      <td>1.341701e-17</td>\n",
       "      <td>-2.115117e-17</td>\n",
       "      <td>-1.396415e-17</td>\n",
       "      <td>1.900744e-17</td>\n",
       "      <td>-6.140661e-18</td>\n",
       "      <td>...</td>\n",
       "      <td>-1.951331</td>\n",
       "      <td>-6.437533e-17</td>\n",
       "      <td>-1.950645</td>\n",
       "      <td>-9.289658e-18</td>\n",
       "      <td>-1.948468</td>\n",
       "      <td>2.327858e-16</td>\n",
       "      <td>-1.942673</td>\n",
       "      <td>-0.115783</td>\n",
       "      <td>-8.046917e-18</td>\n",
       "      <td>-0.171330</td>\n",
       "    </tr>\n",
       "  </tbody>\n",
       "</table>\n",
       "<p>5 rows × 1196 columns</p>\n",
       "</div>"
      ],
      "text/plain": [
       "            age  alat__first__overall  alat__is_measured__first_24h  \\\n",
       "12776  0.208338         -2.571594e-17                     -0.836748   \n",
       "8728  -1.841463          1.497769e-01                     -0.836748   \n",
       "10988  1.234953          1.815384e-01                      1.195102   \n",
       "6797  -0.061668         -2.571594e-17                     -0.836748   \n",
       "9590  -1.586001         -2.571594e-17                     -0.836748   \n",
       "\n",
       "       alat__is_measured__last_24h  alat__is_measured__overall  \\\n",
       "12776                    -0.564198                   -1.005234   \n",
       "8728                     -0.564198                    0.994794   \n",
       "10988                    -0.564198                    0.994794   \n",
       "6797                     -0.564198                   -1.005234   \n",
       "9590                     -0.564198                   -1.005234   \n",
       "\n",
       "       alat__last__overall  alat__maximum__first_24h  alat__maximum__last_24h  \\\n",
       "12776         1.341701e-17             -2.115117e-17            -1.396415e-17   \n",
       "8728          1.903120e-01             -2.115117e-17            -1.396415e-17   \n",
       "10988        -1.107904e-01              5.204464e-02            -1.396415e-17   \n",
       "6797          1.341701e-17             -2.115117e-17            -1.396415e-17   \n",
       "9590          1.341701e-17             -2.115117e-17            -1.396415e-17   \n",
       "\n",
       "       alat__maximum__overall  alat__mean__first_24h  ...  \\\n",
       "12776            1.900744e-17          -6.140661e-18  ...   \n",
       "8728            -2.725539e-02          -6.140661e-18  ...   \n",
       "10988            1.991159e-01           6.813280e-02  ...   \n",
       "6797             1.900744e-17          -6.140661e-18  ...   \n",
       "9590             1.900744e-17          -6.140661e-18  ...   \n",
       "\n",
       "       weight__mean__first_24h  weight__mean__last_24h  weight__mean__overall  \\\n",
       "12776                -0.592510           -6.437533e-17              -0.599947   \n",
       "8728                  0.632517           -6.437533e-17               0.619133   \n",
       "10988                -0.594964           -6.437533e-17              -0.602390   \n",
       "6797                  1.798624            1.786848e+00               1.779579   \n",
       "9590                 -1.951331           -6.437533e-17              -1.950645   \n",
       "\n",
       "       weight__mean__overall__diff  weight__minimum__first_24h  \\\n",
       "12776                -9.289658e-18                   -0.571143   \n",
       "8728                 -9.289658e-18                    0.664125   \n",
       "10988                -9.289658e-18                   -0.571143   \n",
       "6797                 -2.300083e-03                    1.837631   \n",
       "9590                 -9.289658e-18                   -1.948468   \n",
       "\n",
       "       weight__minimum__last_24h  weight__minimum__overall  \\\n",
       "12776               2.327858e-16                 -0.566624   \n",
       "8728                2.327858e-16                  0.667501   \n",
       "10988               2.327858e-16                 -0.566624   \n",
       "6797                1.807144e+00                  1.839919   \n",
       "9590                2.327858e-16                 -1.942673   \n",
       "\n",
       "       weight__standard_deviation__first_24h  \\\n",
       "12776                              -0.124656   \n",
       "8728                               -0.174363   \n",
       "10988                              -0.174363   \n",
       "6797                               -0.174363   \n",
       "9590                               -0.115783   \n",
       "\n",
       "       weight__standard_deviation__last_24h  \\\n",
       "12776                         -8.046917e-18   \n",
       "8728                          -8.046917e-18   \n",
       "10988                         -8.046917e-18   \n",
       "6797                          -1.071439e-01   \n",
       "9590                          -8.046917e-18   \n",
       "\n",
       "       weight__standard_deviation__overall  \n",
       "12776                            -0.175002  \n",
       "8728                             -0.219490  \n",
       "10988                            -0.219490  \n",
       "6797                             -0.219490  \n",
       "9590                             -0.171330  \n",
       "\n",
       "[5 rows x 1196 columns]"
      ]
     },
     "execution_count": 10,
     "metadata": {},
     "output_type": "execute_result"
    }
   ],
   "source": [
    "# Load features\n",
    "data_loader = load_data_from_origin(args.data_origin)\n",
    "dh = DataHandler(**data_loader)\n",
    "X_train, y_train, X_test, y_test, X_val, y_val = dh.get_processed_data(scale=True)\n",
    "X_train.head()"
   ]
  },
  {
   "cell_type": "markdown",
   "id": "smooth-williams",
   "metadata": {},
   "source": [
    "### Train novelty estimator"
   ]
  },
  {
   "cell_type": "code",
   "execution_count": 163,
   "id": "unexpected-forestry",
   "metadata": {
    "scrolled": true
   },
   "outputs": [
    {
     "name": "stdout",
     "output_type": "stream",
     "text": [
      "\n",
      "\n",
      " NN\n",
      "Early stopping after 8 epochs.\n"
     ]
    }
   ],
   "source": [
    "novelty_estimators = defaultdict(dict)\n",
    "\n",
    "for model_info in init_models(input_dim=X_train.shape[1], \n",
    "                              selection=args.models, \n",
    "                              origin=args.data_origin):\n",
    "    \n",
    "    print(\"\\n\\n\", model_info[2])\n",
    "    ne, scoring_funcs, method_name = model_info\n",
    "    \n",
    "    ne.train(X_train.values, y_train.values, X_val.values, y_val.values)\n",
    "    \n",
    "    novelty_estimators[method_name] = {\"model\": ne, \"scoring_funcs\": scoring_funcs}"
   ]
  },
  {
   "cell_type": "markdown",
   "id": "freelance-astronomy",
   "metadata": {},
   "source": [
    "### SHAP"
   ]
  },
  {
   "cell_type": "code",
   "execution_count": 105,
   "id": "pacific-henry",
   "metadata": {},
   "outputs": [
    {
     "data": {
      "application/vnd.jupyter.widget-view+json": {
       "model_id": "2cc3d4ec21a34b76bcfcb7322e57d669",
       "version_major": 2,
       "version_minor": 0
      },
      "text/plain": [
       "  0%|          | 0/2 [00:00<?, ?it/s]"
      ]
     },
     "metadata": {},
     "output_type": "display_data"
    }
   ],
   "source": [
    "f = lambda X: ne.get_novelty_score(data=X, scoring_func='entropy').flatten()\n",
    "\n",
    "explainer = shap.KernelExplainer(f, shap.utils.sample(X_train.values, nsamples=100, random_state=0))\n",
    "feature_names = list(map(lambda x: x.replace('_', ' '), X_test.columns))\n",
    "\n",
    "index=191\n",
    "shap_values = explainer.shap_values(X_test.loc[[index]].values)\n",
    "shap.force_plot(explainer.expected_value, \n",
    "                shap_values[0], \n",
    "                feature_names, \n",
    "                out_names = f'uncertainty score',\n",
    "                show=False,\n",
    "                matplotlib=True)\n",
    "\n",
    "plt.title(f'NN (entropy)\\n \\nID={index}\\n  ', fontsize=14, y=100)\n",
    "plt.show()"
   ]
  },
  {
   "cell_type": "code",
   "execution_count": 160,
   "id": "understanding-rachel",
   "metadata": {},
   "outputs": [],
   "source": [
    "def run_shap(novelty_estimator,\n",
    "             scoring_func: str,\n",
    "             X_train: pd.DataFrame,\n",
    "             X_test: pd.DataFrame,\n",
    "             indices: Union[int,list],\n",
    "            ):\n",
    "    \n",
    "    if type(indices) is int:\n",
    "        indices = list(indices)\n",
    "        \n",
    "    f = lambda X: ne.get_novelty_score(data=X, scoring_func=scoring_func).flatten()\n",
    "    X_train_sample = shap.utils.sample(X_train.values, nsamples=100, random_state=0)\n",
    "    \n",
    "    shap_values = explainer.shap_values(X_test.loc[indices].values)\n",
    "    \n",
    "    feature_names = list(map(lambda x: x.replace('_', ' '), X_test.columns))\n",
    "        \n",
    "    for i,index in enumerate(indices):\n",
    "        print(f'ID={index}')\n",
    "\n",
    "        shap.force_plot(explainer.expected_value, \n",
    "                        shap_values[i], \n",
    "                        feature_names, \n",
    "                        out_names = f'novelty score',\n",
    "                        show=False,\n",
    "                        matplotlib=True)\n",
    "\n",
    "        plt.title(ne.__dict__['name']+' '+ scoring_func +'\\n'+ f'ID={index}', fontsize=14)\n",
    "        plt.show()\n",
    "            "
   ]
  },
  {
   "cell_type": "code",
   "execution_count": 162,
   "id": "valued-orlando",
   "metadata": {},
   "outputs": [
    {
     "data": {
      "application/vnd.jupyter.widget-view+json": {
       "model_id": "2b0d6a8093b94927a48719cb227719ee",
       "version_major": 2,
       "version_minor": 0
      },
      "text/plain": [
       "  0%|          | 0/1 [00:00<?, ?it/s]"
      ]
     },
     "metadata": {},
     "output_type": "display_data"
    },
    {
     "name": "stdout",
     "output_type": "stream",
     "text": [
      "ID=191\n"
     ]
    },
    {
     "data": {
      "image/png": "[encoded data removed]",
      "text/plain": [
       "<Figure size 1440x216 with 1 Axes>"
      ]
     },
     "metadata": {
      "needs_background": "light"
     },
     "output_type": "display_data"
    }
   ],
   "source": [
    "run_shap(ne, 'entropy', X_train, X_test, [191])"
   ]
  },
  {
   "cell_type": "code",
   "execution_count": null,
   "id": "varying-alexander",
   "metadata": {},
   "outputs": [],
   "source": []
  }
 ],
 "metadata": {
  "kernelspec": {
   "display_name": "Python 3",
   "language": "python",
   "name": "python3"
  },
  "language_info": {
   "codemirror_mode": {
    "name": "ipython",
    "version": 3
   },
   "file_extension": ".py",
   "mimetype": "text/x-python",
   "name": "python",
   "nbconvert_exporter": "python",
   "pygments_lexer": "ipython3",
   "version": "3.7.9"
  }
 },
 "nbformat": 4,
 "nbformat_minor": 5
}
