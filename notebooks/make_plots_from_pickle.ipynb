{
 "cells": [
  {
   "cell_type": "code",
   "execution_count": null,
   "metadata": {},
   "outputs": [],
   "source": [
    "import os\n",
    "import uncertainty_estimation.visualizing.ood_plots as ood_plots\n",
    "import pickle\n",
    "import seaborn as sns"
   ]
  },
  {
   "cell_type": "markdown",
   "metadata": {},
   "source": [
    "## OOD barplots"
   ]
  },
  {
   "cell_type": "code",
   "execution_count": null,
   "metadata": {},
   "outputs": [],
   "source": [
    "ood_dir_name = '../uncertainty_estimation/experiments/pickled_results/MIMIC/OOD/'\n",
    "auc_dict, recall_dict = dict(), dict()\n",
    "for method in os.listdir(ood_dir_name):\n",
    "    method_dir = os.path.join(ood_dir_name, method)\n",
    "    with open(os.path.join(method_dir,'detect_auc.pkl'), 'rb') as f:\n",
    "        auc_dict[method] = pickle.load(f)\n",
    "    with open(os.path.join(method_dir,'recall.pkl'), 'rb') as f:\n",
    "        recall_dict[method] = pickle.load(f)"
   ]
  },
  {
   "cell_type": "code",
   "execution_count": null,
   "metadata": {},
   "outputs": [],
   "source": [
    "ood_plots.barplot_from_nested_dict(auc_dict, vline=0.5, xlim=(0.45, 1.0))"
   ]
  },
  {
   "cell_type": "code",
   "execution_count": null,
   "metadata": {},
   "outputs": [],
   "source": [
    "ood_plots.barplot_from_nested_dict(recall_dict, metric_name='OOD recall', vline=0.05)"
   ]
  },
  {
   "cell_type": "markdown",
   "metadata": {},
   "source": [
    "## Perturbation barplots"
   ]
  },
  {
   "cell_type": "code",
   "execution_count": null,
   "metadata": {},
   "outputs": [],
   "source": [
    "ood_dir_name = '../uncertainty_estimation/experiments/pickled_results/MIMIC/perturbation/'\n",
    "auc_dict, recall_dict = dict(), dict()\n",
    "auc_dict_std, recall_dict_std = dict(), dict()\n",
    "for method in os.listdir(ood_dir_name):\n",
    "    method_dir = os.path.join(ood_dir_name, method)\n",
    "    with open(os.path.join(method_dir,'perturb_detect_auc.pkl'), 'rb') as f:\n",
    "        auc_dict[method] = pickle.load(f)\n",
    "    with open(os.path.join(method_dir,'perturb_recall.pkl'), 'rb') as f:\n",
    "        recall_dict[method] = pickle.load(f)"
   ]
  },
  {
   "cell_type": "code",
   "execution_count": null,
   "metadata": {},
   "outputs": [],
   "source": [
    "ood_plots.boxplot_from_nested_listdict(recall_dict, \"OOD recall\", hline=0.05)"
   ]
  },
  {
   "cell_type": "code",
   "execution_count": null,
   "metadata": {},
   "outputs": [],
   "source": [
    "ood_plots.boxplot_from_nested_listdict(auc_dict, \"OOD detection AUC\", hline=0.5, ylim=(0.0,1.0))"
   ]
  },
  {
   "cell_type": "code",
   "execution_count": null,
   "metadata": {},
   "outputs": [],
   "source": [
    "ood_plots.boxplot_from_nested_listdict(recall_dict, \"recall\", hline=0.05, ylim=(0.0,1.0), kind='bar')"
   ]
  },
  {
   "cell_type": "code",
   "execution_count": null,
   "metadata": {},
   "outputs": [],
   "source": [
    "ood_plots.boxplot_from_nested_listdict(auc_dict, \"detection AUC\", hline=0.5, ylim=(0.0,1.0), kind='bar')"
   ]
  },
  {
   "cell_type": "code",
   "execution_count": null,
   "metadata": {},
   "outputs": [],
   "source": []
  }
 ],
 "metadata": {
  "kernelspec": {
   "display_name": "Python 3",
   "language": "python",
   "name": "python3"
  },
  "language_info": {
   "codemirror_mode": {
    "name": "ipython",
    "version": 3
   },
   "file_extension": ".py",
   "mimetype": "text/x-python",
   "name": "python",
   "nbconvert_exporter": "python",
   "pygments_lexer": "ipython3"
  }
 },
 "nbformat": 4,
 "nbformat_minor": 4
}
