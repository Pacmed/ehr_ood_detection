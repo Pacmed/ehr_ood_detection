{
 "cells": [
  {
   "cell_type": "code",
   "execution_count": null,
   "metadata": {},
   "outputs": [],
   "source": [
    "import pickle\n",
    "import os\n",
    "import uncertainty_estimation.experiments_utils.ood_experiments_utils as ood_utils\n",
    "import matplotlib.pyplot as plt\n",
    "import pandas as pd\n",
    "import numpy as np\n",
    "import seaborn as sns"
   ]
  },
  {
   "cell_type": "code",
   "execution_count": null,
   "metadata": {},
   "outputs": [],
   "source": [
    "def barplot_from_nested_dict(nested_dict, metric_name='OOD detection AUC',\n",
    "                             group_name='OOD group', vline=None, xlim=(0, 1.0), save_dir=None,\n",
    "                             height=6,\n",
    "                             aspect=1.5, legend_out=False):\n",
    "    sns.set_palette(\"Set1\", 10)\n",
    "    sns.set_style('whitegrid')\n",
    "    df = pd.DataFrame.from_dict(nested_dict)\n",
    "\n",
    "    df = df.stack().reset_index()\n",
    "    df.columns = [group_name, '', metric_name]\n",
    "\n",
    "    sns.catplot(x=metric_name, y=group_name, hue='', data=df, kind='bar',\n",
    "                height=height, aspect=aspect, facet_kws=dict(despine=False), alpha=0.9,\n",
    "                legend_out=legend_out)\n",
    "    plt.xlim(xlim)\n",
    "    if vline:\n",
    "        plt.axvline(vline, linestyle='--')\n",
    "    if save_dir:\n",
    "        plt.savefig(save_dir, dpi=300,\n",
    "                    bbox_inches='tight', pad=0)\n",
    "        plt.close()\n",
    "    else:\n",
    "        plt.show()\n",
    "\n",
    "\n",
    "def boxplot_from_nested_listdict(nested_dict, name, hline=None, ylim=(0.0, 1.0), x_name='scale',\n",
    "                                 save_dir=None, **kwargs):\n",
    "    sns.set_palette(\"Set1\", 10)\n",
    "    sns.set_style('whitegrid')\n",
    "    df = pd.DataFrame.from_dict(nested_dict,\n",
    "                                orient='columns')\n",
    "\n",
    "    df = df.stack().reset_index()\n",
    "    df.columns = [x_name, '', name]\n",
    "    df = df.explode(name)\n",
    "\n",
    "    sns.catplot(x=x_name, y=name, hue='', data=df, kind='box',\n",
    "                facet_kws=dict(despine=False), legend_out=False, **kwargs)\n",
    "    if hline:\n",
    "        plt.axhline(hline, linestyle='--')\n",
    "    plt.ylim(ylim)\n",
    "    if save_dir:\n",
    "        plt.savefig(save_dir, dpi=300,\n",
    "                    bbox_inches='tight', pad=0)\n",
    "        plt.close()\n",
    "    else:\n",
    "        plt.show()\n",
    "    \n"
   ]
  },
  {
   "cell_type": "markdown",
   "metadata": {},
   "source": [
    "## OOD barplots"
   ]
  },
  {
   "cell_type": "code",
   "execution_count": null,
   "metadata": {},
   "outputs": [],
   "source": [
    "ood_dir_name = '../uncertainty_estimation/experiments/pickled_results/OOD/'\n",
    "auc_dict, recall_dict = dict(), dict()\n",
    "for method in os.listdir(ood_dir_name):\n",
    "    method_dir = os.path.join(ood_dir_name, method)\n",
    "    with open(os.path.join(method_dir,'detect_auc.pkl'), 'rb') as f:\n",
    "        auc_dict[method] = pickle.load(f)\n",
    "    with open(os.path.join(method_dir,'recall.pkl'), 'rb') as f:\n",
    "        recall_dict[method] = pickle.load(f)"
   ]
  },
  {
   "cell_type": "code",
   "execution_count": null,
   "metadata": {},
   "outputs": [],
   "source": [
    "barplot_from_nested_dict(auc_dict, vline=0.5, xlim=(0.45, 1.0))"
   ]
  },
  {
   "cell_type": "code",
   "execution_count": null,
   "metadata": {},
   "outputs": [],
   "source": [
    "barplot_from_nested_dict(recall_dict, metric_name='OOD recall', vline=0.05)"
   ]
  },
  {
   "cell_type": "markdown",
   "metadata": {},
   "source": [
    "## Perturbation barplots"
   ]
  },
  {
   "cell_type": "code",
   "execution_count": null,
   "metadata": {},
   "outputs": [],
   "source": [
    "ood_dir_name = '../uncertainty_estimation/experiments/pickled_results/perturbation/'\n",
    "auc_dict, recall_dict = dict(), dict()\n",
    "auc_dict_std, recall_dict_std = dict(), dict()\n",
    "for method in os.listdir(ood_dir_name):\n",
    "    method_dir = os.path.join(ood_dir_name, method)\n",
    "    with open(os.path.join(method_dir,'perturb_detect_auc.pkl'), 'rb') as f:\n",
    "        auc_dict[method] = pickle.load(f)\n",
    "    with open(os.path.join(method_dir,'perturb_recall.pkl'), 'rb') as f:\n",
    "        recall_dict[method] = pickle.load(f)"
   ]
  },
  {
   "cell_type": "code",
   "execution_count": null,
   "metadata": {},
   "outputs": [],
   "source": [
    "recall_dict.keys()"
   ]
  },
  {
   "cell_type": "code",
   "execution_count": null,
   "metadata": {},
   "outputs": [],
   "source": [
    "boxplot_from_nested_listdict(recall_dict, \"OOD recall\", hline=0.05)"
   ]
  },
  {
   "cell_type": "code",
   "execution_count": null,
   "metadata": {},
   "outputs": [],
   "source": [
    "boxplot_from_listdict(auc_dict, \"OOD detection AUC\", hline=0.5, ylim=(0.45,1.0))"
   ]
  },
  {
   "cell_type": "code",
   "execution_count": null,
   "metadata": {},
   "outputs": [],
   "source": []
  }
 ],
 "metadata": {
  "kernelspec": {
   "display_name": "Python 3",
   "language": "python",
   "name": "python3"
  },
  "language_info": {
   "codemirror_mode": {
    "name": "ipython",
    "version": 3
   },
   "file_extension": ".py",
   "mimetype": "text/x-python",
   "name": "python",
   "nbconvert_exporter": "python",
   "pygments_lexer": "ipython3"
  }
 },
 "nbformat": 4,
 "nbformat_minor": 4
}
